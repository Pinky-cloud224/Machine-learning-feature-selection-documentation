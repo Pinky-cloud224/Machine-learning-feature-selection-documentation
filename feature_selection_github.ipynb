{
 "cells": [
  {
   "cell_type": "markdown",
   "id": "4674f7bd",
   "metadata": {},
   "source": [
    "## Feature selection"
   ]
  },
  {
   "cell_type": "markdown",
   "id": "cd71c4b2",
   "metadata": {},
   "source": [
    "Feature selection is highly impactful because\n",
    "       \n",
    "       - Higher number of feature can lead to model overfitting.\n",
    "       - Effective for extracting non-relevent feature.\n",
    "       - Reduce time and memory uses."
   ]
  },
  {
   "cell_type": "markdown",
   "id": "eac3ac13",
   "metadata": {},
   "source": [
    "The data has been collected from dataset colloected from https://www.kaggle.com/mathchi/diabetes-data-set. The dataset contains 768 samples and 9 features. It is a binary classification dataset."
   ]
  },
  {
   "cell_type": "markdown",
   "id": "155eaf96",
   "metadata": {},
   "source": [
    "#### loading libraries"
   ]
  },
  {
   "cell_type": "code",
   "execution_count": 2,
   "id": "b309fd30",
   "metadata": {},
   "outputs": [],
   "source": [
    "import pandas as pd\n",
    "import numpy as np\n",
    "%matplotlib inline\n",
    "import matplotlib.pyplot as plt\n",
    "data_diabetes = pd.read_csv(\"diabetes.csv\") "
   ]
  },
  {
   "cell_type": "code",
   "execution_count": 3,
   "id": "9cef50c4",
   "metadata": {},
   "outputs": [
    {
     "data": {
      "text/html": [
       "<div>\n",
       "<style scoped>\n",
       "    .dataframe tbody tr th:only-of-type {\n",
       "        vertical-align: middle;\n",
       "    }\n",
       "\n",
       "    .dataframe tbody tr th {\n",
       "        vertical-align: top;\n",
       "    }\n",
       "\n",
       "    .dataframe thead th {\n",
       "        text-align: right;\n",
       "    }\n",
       "</style>\n",
       "<table border=\"1\" class=\"dataframe\">\n",
       "  <thead>\n",
       "    <tr style=\"text-align: right;\">\n",
       "      <th></th>\n",
       "      <th>Pregnancies</th>\n",
       "      <th>Glucose</th>\n",
       "      <th>BloodPressure</th>\n",
       "      <th>SkinThickness</th>\n",
       "      <th>Insulin</th>\n",
       "      <th>BMI</th>\n",
       "      <th>DiabetesPedigreeFunction</th>\n",
       "      <th>Age</th>\n",
       "      <th>Outcome</th>\n",
       "    </tr>\n",
       "  </thead>\n",
       "  <tbody>\n",
       "    <tr>\n",
       "      <th>0</th>\n",
       "      <td>6</td>\n",
       "      <td>148</td>\n",
       "      <td>72</td>\n",
       "      <td>35</td>\n",
       "      <td>0</td>\n",
       "      <td>33.6</td>\n",
       "      <td>0.627</td>\n",
       "      <td>50</td>\n",
       "      <td>1</td>\n",
       "    </tr>\n",
       "    <tr>\n",
       "      <th>1</th>\n",
       "      <td>1</td>\n",
       "      <td>85</td>\n",
       "      <td>66</td>\n",
       "      <td>29</td>\n",
       "      <td>0</td>\n",
       "      <td>26.6</td>\n",
       "      <td>0.351</td>\n",
       "      <td>31</td>\n",
       "      <td>0</td>\n",
       "    </tr>\n",
       "    <tr>\n",
       "      <th>2</th>\n",
       "      <td>8</td>\n",
       "      <td>183</td>\n",
       "      <td>64</td>\n",
       "      <td>0</td>\n",
       "      <td>0</td>\n",
       "      <td>23.3</td>\n",
       "      <td>0.672</td>\n",
       "      <td>32</td>\n",
       "      <td>1</td>\n",
       "    </tr>\n",
       "    <tr>\n",
       "      <th>3</th>\n",
       "      <td>1</td>\n",
       "      <td>89</td>\n",
       "      <td>66</td>\n",
       "      <td>23</td>\n",
       "      <td>94</td>\n",
       "      <td>28.1</td>\n",
       "      <td>0.167</td>\n",
       "      <td>21</td>\n",
       "      <td>0</td>\n",
       "    </tr>\n",
       "    <tr>\n",
       "      <th>4</th>\n",
       "      <td>0</td>\n",
       "      <td>137</td>\n",
       "      <td>40</td>\n",
       "      <td>35</td>\n",
       "      <td>168</td>\n",
       "      <td>43.1</td>\n",
       "      <td>2.288</td>\n",
       "      <td>33</td>\n",
       "      <td>1</td>\n",
       "    </tr>\n",
       "    <tr>\n",
       "      <th>...</th>\n",
       "      <td>...</td>\n",
       "      <td>...</td>\n",
       "      <td>...</td>\n",
       "      <td>...</td>\n",
       "      <td>...</td>\n",
       "      <td>...</td>\n",
       "      <td>...</td>\n",
       "      <td>...</td>\n",
       "      <td>...</td>\n",
       "    </tr>\n",
       "    <tr>\n",
       "      <th>763</th>\n",
       "      <td>10</td>\n",
       "      <td>101</td>\n",
       "      <td>76</td>\n",
       "      <td>48</td>\n",
       "      <td>180</td>\n",
       "      <td>32.9</td>\n",
       "      <td>0.171</td>\n",
       "      <td>63</td>\n",
       "      <td>0</td>\n",
       "    </tr>\n",
       "    <tr>\n",
       "      <th>764</th>\n",
       "      <td>2</td>\n",
       "      <td>122</td>\n",
       "      <td>70</td>\n",
       "      <td>27</td>\n",
       "      <td>0</td>\n",
       "      <td>36.8</td>\n",
       "      <td>0.340</td>\n",
       "      <td>27</td>\n",
       "      <td>0</td>\n",
       "    </tr>\n",
       "    <tr>\n",
       "      <th>765</th>\n",
       "      <td>5</td>\n",
       "      <td>121</td>\n",
       "      <td>72</td>\n",
       "      <td>23</td>\n",
       "      <td>112</td>\n",
       "      <td>26.2</td>\n",
       "      <td>0.245</td>\n",
       "      <td>30</td>\n",
       "      <td>0</td>\n",
       "    </tr>\n",
       "    <tr>\n",
       "      <th>766</th>\n",
       "      <td>1</td>\n",
       "      <td>126</td>\n",
       "      <td>60</td>\n",
       "      <td>0</td>\n",
       "      <td>0</td>\n",
       "      <td>30.1</td>\n",
       "      <td>0.349</td>\n",
       "      <td>47</td>\n",
       "      <td>1</td>\n",
       "    </tr>\n",
       "    <tr>\n",
       "      <th>767</th>\n",
       "      <td>1</td>\n",
       "      <td>93</td>\n",
       "      <td>70</td>\n",
       "      <td>31</td>\n",
       "      <td>0</td>\n",
       "      <td>30.4</td>\n",
       "      <td>0.315</td>\n",
       "      <td>23</td>\n",
       "      <td>0</td>\n",
       "    </tr>\n",
       "  </tbody>\n",
       "</table>\n",
       "<p>768 rows × 9 columns</p>\n",
       "</div>"
      ],
      "text/plain": [
       "     Pregnancies  Glucose  BloodPressure  SkinThickness  Insulin   BMI  \\\n",
       "0              6      148             72             35        0  33.6   \n",
       "1              1       85             66             29        0  26.6   \n",
       "2              8      183             64              0        0  23.3   \n",
       "3              1       89             66             23       94  28.1   \n",
       "4              0      137             40             35      168  43.1   \n",
       "..           ...      ...            ...            ...      ...   ...   \n",
       "763           10      101             76             48      180  32.9   \n",
       "764            2      122             70             27        0  36.8   \n",
       "765            5      121             72             23      112  26.2   \n",
       "766            1      126             60              0        0  30.1   \n",
       "767            1       93             70             31        0  30.4   \n",
       "\n",
       "     DiabetesPedigreeFunction  Age  Outcome  \n",
       "0                       0.627   50        1  \n",
       "1                       0.351   31        0  \n",
       "2                       0.672   32        1  \n",
       "3                       0.167   21        0  \n",
       "4                       2.288   33        1  \n",
       "..                        ...  ...      ...  \n",
       "763                     0.171   63        0  \n",
       "764                     0.340   27        0  \n",
       "765                     0.245   30        0  \n",
       "766                     0.349   47        1  \n",
       "767                     0.315   23        0  \n",
       "\n",
       "[768 rows x 9 columns]"
      ]
     },
     "execution_count": 3,
     "metadata": {},
     "output_type": "execute_result"
    }
   ],
   "source": [
    "data_diabetes"
   ]
  },
  {
   "cell_type": "code",
   "execution_count": 4,
   "id": "4c226508",
   "metadata": {},
   "outputs": [
    {
     "data": {
      "text/plain": [
       "(768, 9)"
      ]
     },
     "execution_count": 4,
     "metadata": {},
     "output_type": "execute_result"
    }
   ],
   "source": [
    "data_diabetes.shape"
   ]
  },
  {
   "cell_type": "code",
   "execution_count": 5,
   "id": "8fdf44d9",
   "metadata": {},
   "outputs": [],
   "source": [
    "X = data_diabetes.iloc[:,:-1]  #independent columns\n",
    "y = data_diabetes.iloc[:,-1]    #target column "
   ]
  },
  {
   "cell_type": "markdown",
   "id": "d29085ad",
   "metadata": {},
   "source": [
    "## 1. Filter method"
   ]
  },
  {
   "cell_type": "markdown",
   "id": "42166b72",
   "metadata": {},
   "source": [
    "### 1.1 Univariate selection method"
   ]
  },
  {
   "cell_type": "markdown",
   "id": "575a8a1b",
   "metadata": {},
   "source": [
    "- Univariate selection method is based on the univariate statistical tests such as ANOVA, F-test.\n",
    "\n",
    "- This method assume linear relationship between feature and target.\n",
    "\n",
    "- The following feature selection method is based on Gaussian distribution. \n"
   ]
  },
  {
   "cell_type": "markdown",
   "id": "9b193560",
   "metadata": {},
   "source": [
    "-----------------------------------------------------------------------------------------------------\n",
    "-----------------------------------------------------------------------------------------------------\n",
    "SelectKBest and SelectPercentile is the two most popular methods for univariate selection method. \n",
    "\n",
    "------------------------------------------------------------------------------------------------------------------\n"
   ]
  },
  {
   "cell_type": "markdown",
   "id": "744dcbba",
   "metadata": {},
   "source": [
    "#### 1.1.1 SelectKBest"
   ]
  },
  {
   "cell_type": "markdown",
   "id": "7d0227d2",
   "metadata": {},
   "source": [
    "This method select the features according to the best scores of K."
   ]
  },
  {
   "cell_type": "code",
   "execution_count": 6,
   "id": "27f71be0",
   "metadata": {},
   "outputs": [],
   "source": [
    "from sklearn.feature_selection import SelectKBest\n",
    "from sklearn.feature_selection import chi2"
   ]
  },
  {
   "cell_type": "code",
   "execution_count": 7,
   "id": "efb1de95",
   "metadata": {},
   "outputs": [
    {
     "name": "stdout",
     "output_type": "stream",
     "text": [
      "Feature 0: 111.519691\n",
      "Feature 1: 1411.887041\n",
      "Feature 2: 17.605373\n",
      "Feature 3: 53.108040\n",
      "Feature 4: 2175.565273\n",
      "Feature 5: 127.669343\n",
      "Feature 6: 5.392682\n",
      "Feature 7: 181.303689\n"
     ]
    }
   ],
   "source": [
    "f_s_best_k=SelectKBest(score_func=chi2,k=5)\n",
    "features_best_k = f_s_best_k.fit(X,y)\n",
    "\n",
    "\n",
    "for i in range(len(features_best_k.scores_)):\n",
    "\tprint('Feature %d: %f' % (i,features_best_k.scores_[i]))"
   ]
  },
  {
   "cell_type": "code",
   "execution_count": 8,
   "id": "9bedaba2",
   "metadata": {},
   "outputs": [
    {
     "data": {
      "image/png": "[encoded data removed]",
      "text/plain": [
       "<Figure size 432x288 with 1 Axes>"
      ]
     },
     "metadata": {
      "needs_background": "light"
     },
     "output_type": "display_data"
    }
   ],
   "source": [
    "import matplotlib.pyplot as plt\n",
    "\n",
    "features_ = data_diabetes.columns[0:8]\n",
    "new_df = pd.Series(features_best_k.scores_, features_)\n",
    "new_df.plot(kind = 'barh')\n",
    "plt.ylabel(\"Features\")\n",
    "plt.xlabel(\"scores\")\n",
    "plt.title(\"Features with scores\")\n",
    "plt.show()"
   ]
  },
  {
   "cell_type": "markdown",
   "id": "a4ee57c3",
   "metadata": {},
   "source": [
    "####  ***chi2 is effective for the classification tasks not for the regression tasks and sparse data."
   ]
  },
  {
   "cell_type": "markdown",
   "id": "dd110a5a",
   "metadata": {},
   "source": [
    "#### 1.1.2 SelectPercentile"
   ]
  },
  {
   "cell_type": "markdown",
   "id": "12f3f8d3",
   "metadata": {},
   "source": [
    "This method select the features according to the best Percentile scores"
   ]
  },
  {
   "cell_type": "code",
   "execution_count": 9,
   "id": "f295f112",
   "metadata": {},
   "outputs": [],
   "source": [
    "from sklearn.feature_selection import SelectPercentile, chi2"
   ]
  },
  {
   "cell_type": "code",
   "execution_count": 10,
   "id": "0b2fb27c",
   "metadata": {},
   "outputs": [
    {
     "name": "stdout",
     "output_type": "stream",
     "text": [
      "Feature 0: 111.519691\n",
      "Feature 1: 1411.887041\n",
      "Feature 2: 17.605373\n",
      "Feature 3: 53.108040\n",
      "Feature 4: 2175.565273\n",
      "Feature 5: 127.669343\n",
      "Feature 6: 5.392682\n",
      "Feature 7: 181.303689\n"
     ]
    }
   ],
   "source": [
    "f_s_best_percentile=SelectPercentile(score_func=chi2,percentile=10)\n",
    "features_p = f_s_best_percentile.fit(X,y)\n",
    "\n",
    "\n",
    "for i in range(len(features_p.scores_)):\n",
    "\tprint('Feature %d: %f' % (i,features_p.scores_[i]))"
   ]
  },
  {
   "cell_type": "code",
   "execution_count": 11,
   "id": "38d16e08",
   "metadata": {},
   "outputs": [
    {
     "data": {
      "image/png": "[encoded data removed]",
      "text/plain": [
       "<Figure size 432x288 with 1 Axes>"
      ]
     },
     "metadata": {
      "needs_background": "light"
     },
     "output_type": "display_data"
    }
   ],
   "source": [
    "features = data_diabetes.columns[0:8]\n",
    "new_df = pd.Series(features_p.scores_, features)\n",
    "new_df.plot(kind = 'barh')\n",
    "plt.ylabel(\"Features\")\n",
    "plt.xlabel(\"scores\")\n",
    "plt.title(\"Features with scores\")\n",
    "plt.show()"
   ]
  },
  {
   "cell_type": "markdown",
   "id": "2ba606ed",
   "metadata": {},
   "source": [
    " ### 1.1.3 Information gain method"
   ]
  },
  {
   "cell_type": "markdown",
   "id": "a811476c",
   "metadata": {},
   "source": [
    "In this feature selection method features are selected according to the collected information from the feature."
   ]
  },
  {
   "cell_type": "code",
   "execution_count": 12,
   "id": "fa60ad37",
   "metadata": {},
   "outputs": [
    {
     "name": "stdout",
     "output_type": "stream",
     "text": [
      "[0.03261505 0.12180001 0.01077102 0.00792482 0.0447473  0.07345232\n",
      " 0.01300251 0.05764731]\n"
     ]
    },
    {
     "data": {
      "image/png": "[encoded data removed]",
      "text/plain": [
       "<Figure size 432x288 with 1 Axes>"
      ]
     },
     "metadata": {
      "needs_background": "light"
     },
     "output_type": "display_data"
    }
   ],
   "source": [
    "from sklearn.feature_selection import mutual_info_classif\n",
    "\n",
    "scores = mutual_info_classif(X, y)\n",
    "print(scores)\n",
    "\n",
    "features = data_diabetes.columns[0:8]\n",
    "new_df = pd.Series(scores, features)\n",
    "new_df.plot(kind = 'barh')\n",
    "plt.ylabel(\"Features\")\n",
    "plt.xlabel(\"scores\")\n",
    "plt.title(\"Features with scores\")\n",
    "plt.show()\n"
   ]
  },
  {
   "cell_type": "markdown",
   "id": "5ea1d0af",
   "metadata": {},
   "source": [
    "- Mutual_info_classif is effective for descrete or continuous variable.\n",
    "\n",
    "- Effective for classification problem.\n",
    "\n",
    "- Find the dependency between to random non-negative value. Higher value means higher dependency.\n",
    "\n",
    "- Based on entropy estimation."
   ]
  },
  {
   "cell_type": "markdown",
   "id": "902b9857",
   "metadata": {},
   "source": [
    "### 1.2. ANOVA-f test"
   ]
  },
  {
   "cell_type": "markdown",
   "id": "fef5dc80",
   "metadata": {},
   "source": [
    "- Calculate ANOVA-f value for the selected samples.\n"
   ]
  },
  {
   "cell_type": "code",
   "execution_count": 13,
   "id": "1c0b733c",
   "metadata": {},
   "outputs": [],
   "source": [
    "from sklearn.feature_selection import f_classif"
   ]
  },
  {
   "cell_type": "code",
   "execution_count": 14,
   "id": "96e6fac2",
   "metadata": {},
   "outputs": [
    {
     "name": "stdout",
     "output_type": "stream",
     "text": [
      "Feature 0: 39.670227\n",
      "Feature 1: 213.161752\n",
      "Feature 2: 3.256950\n",
      "Feature 3: 4.304381\n",
      "Feature 4: 13.281108\n",
      "Feature 5: 71.772072\n",
      "Feature 6: 23.871300\n",
      "Feature 7: 46.140611\n"
     ]
    }
   ],
   "source": [
    "f_s_anova_f=SelectKBest(score_func=f_classif,k=4)\n",
    "features_a_f = f_s_anova_f.fit(X,y)\n",
    "\n",
    "\n",
    "for i in range(len(features_a_f.scores_)):\n",
    "\tprint('Feature %d: %f' % (i,features_a_f.scores_[i]))"
   ]
  },
  {
   "cell_type": "code",
   "execution_count": 15,
   "id": "6724725e",
   "metadata": {},
   "outputs": [
    {
     "data": {
      "image/png": "[encoded data removed]",
      "text/plain": [
       "<Figure size 432x288 with 1 Axes>"
      ]
     },
     "metadata": {
      "needs_background": "light"
     },
     "output_type": "display_data"
    }
   ],
   "source": [
    "features = data_diabetes.columns[0:8]\n",
    "new_df = pd.Series(features_a_f.scores_, features)\n",
    "new_df.plot(kind = 'barh')\n",
    "plt.ylabel(\"Features\")\n",
    "plt.xlabel(\"scores\")\n",
    "plt.title(\"Features with scores\")\n",
    "plt.show()"
   ]
  },
  {
   "cell_type": "markdown",
   "id": "47dab683",
   "metadata": {},
   "source": [
    "- Effective for numerical input and categorical output data."
   ]
  },
  {
   "cell_type": "markdown",
   "id": "644dcf04",
   "metadata": {},
   "source": [
    "### 1.3. Coorelation matrix with heatmap"
   ]
  },
  {
   "cell_type": "markdown",
   "id": "e01e9617",
   "metadata": {},
   "source": [
    "- Find the linear relationship between two or more variable\n",
    "\n",
    "- Variables need to be coorrelated with the targets but uncorrelated with each other."
   ]
  },
  {
   "cell_type": "code",
   "execution_count": 16,
   "id": "09c0f156",
   "metadata": {},
   "outputs": [
    {
     "data": {
      "image/png": "[encoded data removed]",
      "text/plain": [
       "<Figure size 936x720 with 2 Axes>"
      ]
     },
     "metadata": {
      "needs_background": "light"
     },
     "output_type": "display_data"
    }
   ],
   "source": [
    "import seaborn as sns\n",
    "import matplotlib.pyplot as plt\n",
    "\n",
    "plt.figure(figsize = (13, 10))\n",
    "sns.heatmap(data_diabetes.corr(), annot = True)\n",
    "plt.title('Correlation Heatmap of Diabates Dataset')\n",
    "plt.show()"
   ]
  },
  {
   "cell_type": "markdown",
   "id": "9ed95418",
   "metadata": {},
   "source": [
    "The feature correlation coefficient(r) has a range of -1 to 1.\n",
    "\n",
    "- r= -1, high negative coorelation\n",
    "- r= 0, no correlation\n",
    "- r= 1, high positive correlation"
   ]
  },
  {
   "cell_type": "markdown",
   "id": "588e3919",
   "metadata": {},
   "source": [
    "### 1.4 Basic method"
   ]
  },
  {
   "cell_type": "markdown",
   "id": "5140cdc4",
   "metadata": {},
   "source": [
    " #### 1.4.1 Recursive Feature Elimination"
   ]
  },
  {
   "cell_type": "markdown",
   "id": "90303ec7",
   "metadata": {},
   "source": [
    "#### Removing constant feature"
   ]
  },
  {
   "cell_type": "markdown",
   "id": "09b783d5",
   "metadata": {},
   "source": [
    "- Constant feature show the same value, single value for all observation in the dataset. \n",
    "\n",
    "- The constant features provide no information that is effective for a machine learning model to discriminate or predict a target."
   ]
  },
  {
   "cell_type": "code",
   "execution_count": 17,
   "id": "e98c71eb",
   "metadata": {},
   "outputs": [
    {
     "data": {
      "text/plain": [
       "VarianceThreshold(threshold=0)"
      ]
     },
     "execution_count": 17,
     "metadata": {},
     "output_type": "execute_result"
    }
   ],
   "source": [
    "from sklearn.model_selection import train_test_split\n",
    "\n",
    "X_train,X_test,y_train,y_test=train_test_split(X,y,test_size=0.25, random_state=8)\n",
    "X_train.shape, y_train.shape, X_test.shape, y_test.shape\n",
    "\n",
    "\n",
    "from sklearn.feature_selection import VarianceThreshold\n",
    "r_f_e = VarianceThreshold(threshold=0)\n",
    "r_f_e.fit(X_train)"
   ]
  },
  {
   "cell_type": "code",
   "execution_count": 18,
   "id": "f35e914b",
   "metadata": {},
   "outputs": [
    {
     "data": {
      "text/plain": [
       "8"
      ]
     },
     "execution_count": 18,
     "metadata": {},
     "output_type": "execute_result"
    }
   ],
   "source": [
    "# if we sum over get_support, we get the number of features that are not constant\n",
    "sum(r_f_e.get_support())"
   ]
  },
  {
   "cell_type": "code",
   "execution_count": 19,
   "id": "84dad4e5",
   "metadata": {},
   "outputs": [
    {
     "name": "stdout",
     "output_type": "stream",
     "text": [
      "0\n"
     ]
    },
    {
     "data": {
      "text/plain": [
       "[]"
      ]
     },
     "execution_count": 19,
     "metadata": {},
     "output_type": "execute_result"
    }
   ],
   "source": [
    "# print the constant features\n",
    "print(\n",
    "    len([\n",
    "        x for x in X_train.columns\n",
    "        if x not in X_train.columns[r_f_e.get_support()]\n",
    "    ]))\n",
    "\n",
    "[x for x in X_train.columns if x not in X_train.columns[r_f_e.get_support()]]"
   ]
  },
  {
   "cell_type": "markdown",
   "id": "03556a50",
   "metadata": {},
   "source": [
    "The considerable dataset doesn't contain any constant variable."
   ]
  },
  {
   "cell_type": "markdown",
   "id": "dcbdfa15",
   "metadata": {},
   "source": [
    "## 2. Wrapper Methods"
   ]
  },
  {
   "cell_type": "markdown",
   "id": "95b9dd61",
   "metadata": {},
   "source": [
    "- Wrapper method is based on specific Machine learning algorithm, that are implemented on the given dataset.\n",
    "- The followings are the common wrapper method-\n",
    "        - Forward selection\n",
    "        - Backward Elimination\n",
    "        - Exhaustive feature selection\n",
    "        - Recursive feature elimination\n",
    "        - Recursive feature elimination with cross-validation"
   ]
  },
  {
   "cell_type": "markdown",
   "id": "2e7f9bf2",
   "metadata": {},
   "source": [
    "#### 2.1. Forward selection"
   ]
  },
  {
   "cell_type": "code",
   "execution_count": 20,
   "id": "20af3027",
   "metadata": {},
   "outputs": [
    {
     "data": {
      "text/plain": [
       "((576, 8), (576,), (192, 8), (192,))"
      ]
     },
     "execution_count": 20,
     "metadata": {},
     "output_type": "execute_result"
    }
   ],
   "source": [
    "from sklearn.model_selection import train_test_split\n",
    "\n",
    "X_train,X_test,y_train,y_test=train_test_split(X,y,test_size=0.25, random_state=8)\n",
    "X_train.shape, y_train.shape, X_test.shape, y_test.shape"
   ]
  },
  {
   "cell_type": "code",
   "execution_count": 21,
   "id": "b7eda9b0",
   "metadata": {},
   "outputs": [],
   "source": [
    "from sklearn.ensemble import RandomForestRegressor\n",
    "from sklearn.metrics import r2_score"
   ]
  },
  {
   "cell_type": "code",
   "execution_count": 22,
   "id": "01df3654",
   "metadata": {},
   "outputs": [
    {
     "name": "stdout",
     "output_type": "stream",
     "text": [
      "correlated features:  0\n"
     ]
    }
   ],
   "source": [
    "# find and remove correlated features\n",
    "def correlation(dataset, threshold):\n",
    "    col_corr = set()  # Set of all the names of correlated columns\n",
    "    corr_matrix = dataset.corr()\n",
    "    for i in range(len(corr_matrix.columns)):\n",
    "        for j in range(i):\n",
    "            if abs(corr_matrix.iloc[i, j]) > threshold: # we are interested in absolute coeff value\n",
    "                colname = corr_matrix.columns[i]  # getting the name of column\n",
    "                col_corr.add(colname)\n",
    "    return col_corr\n",
    "\n",
    "correlated_features = correlation(X_train, 0.7)\n",
    "print('correlated features: ', len(set(correlated_features)) )"
   ]
  },
  {
   "cell_type": "code",
   "execution_count": 23,
   "id": "569e5506",
   "metadata": {},
   "outputs": [
    {
     "name": "stderr",
     "output_type": "stream",
     "text": [
      "/home/pinky/.local/lib/python3.8/site-packages/pandas/core/frame.py:5171: SettingWithCopyWarning: \n",
      "A value is trying to be set on a copy of a slice from a DataFrame\n",
      "\n",
      "See the caveats in the documentation: https://pandas.pydata.org/pandas-docs/stable/user_guide/indexing.html#returning-a-view-versus-a-copy\n",
      "  return super().fillna(\n"
     ]
    }
   ],
   "source": [
    "X_train.fillna(0, inplace=True)"
   ]
  },
  {
   "cell_type": "code",
   "execution_count": 24,
   "id": "2be6c52c",
   "metadata": {},
   "outputs": [
    {
     "name": "stderr",
     "output_type": "stream",
     "text": [
      "[Parallel(n_jobs=1)]: Using backend SequentialBackend with 1 concurrent workers.\n",
      "[Parallel(n_jobs=1)]: Done   1 out of   1 | elapsed:    0.1s remaining:    0.0s\n",
      "[Parallel(n_jobs=1)]: Done   8 out of   8 | elapsed:    0.9s finished\n",
      "\n",
      "[2022-03-14 22:14:00] Features: 1/5 -- score: 0.010642770954569336[Parallel(n_jobs=1)]: Using backend SequentialBackend with 1 concurrent workers.\n",
      "[Parallel(n_jobs=1)]: Done   1 out of   1 | elapsed:    0.1s remaining:    0.0s\n",
      "[Parallel(n_jobs=1)]: Done   7 out of   7 | elapsed:    0.9s finished\n",
      "\n",
      "[2022-03-14 22:14:01] Features: 2/5 -- score: 0.04307916867745132[Parallel(n_jobs=1)]: Using backend SequentialBackend with 1 concurrent workers.\n",
      "[Parallel(n_jobs=1)]: Done   1 out of   1 | elapsed:    0.1s remaining:    0.0s\n",
      "[Parallel(n_jobs=1)]: Done   6 out of   6 | elapsed:    0.8s finished\n",
      "\n",
      "[2022-03-14 22:14:02] Features: 3/5 -- score: 0.11215804161990273[Parallel(n_jobs=1)]: Using backend SequentialBackend with 1 concurrent workers.\n",
      "[Parallel(n_jobs=1)]: Done   1 out of   1 | elapsed:    0.1s remaining:    0.0s\n",
      "[Parallel(n_jobs=1)]: Done   5 out of   5 | elapsed:    0.7s finished\n",
      "\n",
      "[2022-03-14 22:14:03] Features: 4/5 -- score: 0.2001541414141414[Parallel(n_jobs=1)]: Using backend SequentialBackend with 1 concurrent workers.\n",
      "[Parallel(n_jobs=1)]: Done   1 out of   1 | elapsed:    0.1s remaining:    0.0s\n",
      "[Parallel(n_jobs=1)]: Done   4 out of   4 | elapsed:    0.6s finished\n",
      "\n",
      "[2022-03-14 22:14:03] Features: 5/5 -- score: 0.22334437710437716"
     ]
    }
   ],
   "source": [
    "from mlxtend.feature_selection import SequentialFeatureSelector as SFS\n",
    "\n",
    "s_f_s = SFS(RandomForestRegressor(), \n",
    "           k_features=5, \n",
    "           forward=True, \n",
    "           floating=False, \n",
    "           verbose=2,\n",
    "           scoring='r2',\n",
    "           cv=2)\n",
    "\n",
    "s_f_s = s_f_s.fit(np.array(X_train), y_train)"
   ]
  },
  {
   "cell_type": "code",
   "execution_count": 25,
   "id": "1a43ceb0",
   "metadata": {},
   "outputs": [
    {
     "data": {
      "text/plain": [
       "(1, 4, 5, 6, 7)"
      ]
     },
     "execution_count": 25,
     "metadata": {},
     "output_type": "execute_result"
    }
   ],
   "source": [
    "s_f_s.k_feature_idx_"
   ]
  },
  {
   "cell_type": "code",
   "execution_count": 26,
   "id": "67667e9a",
   "metadata": {},
   "outputs": [
    {
     "data": {
      "text/plain": [
       "Index(['Glucose', 'Insulin', 'BMI', 'DiabetesPedigreeFunction', 'Age'], dtype='object')"
      ]
     },
     "execution_count": 26,
     "metadata": {},
     "output_type": "execute_result"
    }
   ],
   "source": [
    "X_train.columns[list(s_f_s.k_feature_idx_)]"
   ]
  },
  {
   "cell_type": "markdown",
   "id": "8823202b",
   "metadata": {},
   "source": [
    "#### 2.2 Backward Elimination "
   ]
  },
  {
   "cell_type": "code",
   "execution_count": 27,
   "id": "cf0c6b5b",
   "metadata": {},
   "outputs": [
    {
     "name": "stderr",
     "output_type": "stream",
     "text": [
      "[Parallel(n_jobs=1)]: Using backend SequentialBackend with 1 concurrent workers.\n",
      "[Parallel(n_jobs=1)]: Done   1 out of   1 | elapsed:    0.3s remaining:    0.0s\n",
      "[Parallel(n_jobs=1)]: Done   2 out of   2 | elapsed:    0.6s remaining:    0.0s\n",
      "[Parallel(n_jobs=1)]: Done   3 out of   3 | elapsed:    0.8s remaining:    0.0s\n",
      "[Parallel(n_jobs=1)]: Done   4 out of   4 | elapsed:    1.1s remaining:    0.0s\n",
      "[Parallel(n_jobs=1)]: Done   5 out of   5 | elapsed:    1.4s remaining:    0.0s\n",
      "[Parallel(n_jobs=1)]: Done   6 out of   6 | elapsed:    1.7s remaining:    0.0s\n",
      "[Parallel(n_jobs=1)]: Done   7 out of   7 | elapsed:    1.9s remaining:    0.0s\n",
      "[Parallel(n_jobs=1)]: Done   8 out of   8 | elapsed:    2.2s finished\n",
      "\n",
      "[2022-03-14 22:14:06] Features: 7/7 -- score: 0.26967864914633677"
     ]
    }
   ],
   "source": [
    "b_e = SFS(RandomForestRegressor(), \n",
    "           k_features=7, \n",
    "           forward=False, \n",
    "           floating=False, \n",
    "           verbose=8,\n",
    "           scoring='r2',\n",
    "           cv=3)\n",
    "\n",
    "b_e = b_e.fit(np.array(X_train), y_train)"
   ]
  },
  {
   "cell_type": "code",
   "execution_count": 28,
   "id": "8e91311b",
   "metadata": {},
   "outputs": [
    {
     "data": {
      "text/plain": [
       "(0, 1, 2, 4, 5, 6, 7)"
      ]
     },
     "execution_count": 28,
     "metadata": {},
     "output_type": "execute_result"
    }
   ],
   "source": [
    "b_e.k_feature_idx_\n"
   ]
  },
  {
   "cell_type": "code",
   "execution_count": 29,
   "id": "b4b2db0a",
   "metadata": {},
   "outputs": [
    {
     "data": {
      "text/plain": [
       "Index(['Pregnancies', 'Glucose', 'BloodPressure', 'Insulin', 'BMI',\n",
       "       'DiabetesPedigreeFunction', 'Age'],\n",
       "      dtype='object')"
      ]
     },
     "execution_count": 29,
     "metadata": {},
     "output_type": "execute_result"
    }
   ],
   "source": [
    "X_train.columns[list(b_e.k_feature_idx_)]"
   ]
  },
  {
   "cell_type": "code",
   "execution_count": 30,
   "id": "e2606bd6",
   "metadata": {},
   "outputs": [
    {
     "name": "stdout",
     "output_type": "stream",
     "text": [
      "Accuracy :  0.6979166666666666\n"
     ]
    }
   ],
   "source": [
    "from sklearn.metrics import accuracy_score\n",
    "from sklearn.feature_selection import RFE\n",
    "from sklearn.svm import SVC\n",
    "\n",
    "rfe = RFE(SVC(kernel = 'linear'), n_features_to_select = 3)\n",
    "rfe.fit(X_train, y_train)\n",
    "pred = rfe.predict(X_test)\n",
    "print(\"Accuracy : \", accuracy_score(pred, y_test))"
   ]
  },
  {
   "cell_type": "markdown",
   "id": "de49cd1b",
   "metadata": {},
   "source": [
    "## 3. Embedded method"
   ]
  },
  {
   "cell_type": "markdown",
   "id": "914f4103",
   "metadata": {},
   "source": [
    "- Two most popular Embedded mothod are\n",
    "        - LASSO Regression\n",
    "        - Random Forest"
   ]
  },
  {
   "cell_type": "markdown",
   "id": "443d94e1",
   "metadata": {},
   "source": [
    "#### 3.1. LASSO Regularization"
   ]
  },
  {
   "cell_type": "markdown",
   "id": "001077d6",
   "metadata": {},
   "source": [
    "- LASSO regularization perform L2-regularization \n",
    "\n",
    "- Lasso regularisation helps to remove non-important features from the dataset."
   ]
  },
  {
   "cell_type": "code",
   "execution_count": 31,
   "id": "94ec1a65",
   "metadata": {},
   "outputs": [
    {
     "name": "stdout",
     "output_type": "stream",
     "text": [
      "Index(['DiabetesPedigreeFunction'], dtype='object')\n"
     ]
    }
   ],
   "source": [
    "from sklearn.linear_model import LogisticRegression\n",
    "from sklearn.feature_selection import SelectFromModel\n",
    "\n",
    "s_f_m = SelectFromModel(LogisticRegression(C = 5, penalty = 'l2',max_iter=1000))\n",
    "s_f_m.fit(X_train, y_train)\n",
    "important_features = X_train.columns[(s_f_m.get_support())] \n",
    "print(important_features)"
   ]
  },
  {
   "cell_type": "markdown",
   "id": "419bb999",
   "metadata": {},
   "source": [
    "- Effective for categorical input and numerical output data"
   ]
  },
  {
   "cell_type": "markdown",
   "id": "097b0200",
   "metadata": {},
   "source": [
    "#### 3.2 Random Forest "
   ]
  },
  {
   "cell_type": "markdown",
   "id": "19975beb",
   "metadata": {},
   "source": [
    "- Random forest is highly effective for providing in a good predictive performance, low overfitting and easy interpretability.\n",
    "\n"
   ]
  },
  {
   "cell_type": "code",
   "execution_count": 32,
   "id": "d52c660e",
   "metadata": {},
   "outputs": [],
   "source": [
    "from sklearn import tree\n",
    "from sklearn.ensemble import RandomForestClassifier\n",
    "from sklearn import preprocessing\n",
    "from sklearn.preprocessing import LabelEncoder\n",
    "from sklearn.preprocessing import StandardScaler"
   ]
  },
  {
   "cell_type": "code",
   "execution_count": 33,
   "id": "4f7f05a5",
   "metadata": {},
   "outputs": [],
   "source": [
    "r_clf = RandomForestClassifier(n_estimators=120, random_state=0)"
   ]
  },
  {
   "cell_type": "code",
   "execution_count": 34,
   "id": "3875959e",
   "metadata": {},
   "outputs": [
    {
     "data": {
      "text/plain": [
       "RandomForestClassifier(n_estimators=120, random_state=0)"
      ]
     },
     "execution_count": 34,
     "metadata": {},
     "output_type": "execute_result"
    }
   ],
   "source": [
    "r_clf.fit(X_train, y_train)"
   ]
  },
  {
   "cell_type": "code",
   "execution_count": 35,
   "id": "58741433",
   "metadata": {},
   "outputs": [],
   "source": [
    "# predicting on the test set\n",
    "y_pred = r_clf.predict(X_test)"
   ]
  },
  {
   "cell_type": "markdown",
   "id": "b526cada",
   "metadata": {},
   "source": [
    "------------------------------------------------------------------------------------------------------------------\n",
    "-----------------------------------------------------------------------------------------------------------------"
   ]
  }
 ],
 "metadata": {
  "kernelspec": {
   "display_name": "Python 3 (ipykernel)",
   "language": "python",
   "name": "python3"
  },
  "language_info": {
   "codemirror_mode": {
    "name": "ipython",
    "version": 3
   },
   "file_extension": ".py",
   "mimetype": "text/x-python",
   "name": "python",
   "nbconvert_exporter": "python",
   "pygments_lexer": "ipython3",
   "version": "3.8.10"
  }
 },
 "nbformat": 4,
 "nbformat_minor": 5
}
